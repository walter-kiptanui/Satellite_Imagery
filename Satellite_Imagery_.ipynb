{
  "nbformat": 4,
  "nbformat_minor": 0,
  "metadata": {
    "colab": {
      "provenance": [],
      "gpuType": "V28"
    },
    "kernelspec": {
      "name": "python3",
      "display_name": "Python 3"
    },
    "language_info": {
      "name": "python"
    },
    "accelerator": "TPU"
  },
  "cells": [
    {
      "cell_type": "markdown",
      "source": [
        "The Open Buildings data set (https://sites.research.google/gr/open-buildings) contains building outlines derived from satellite imagery. I used this dataset as well as the attached file indicating the locations of capital cities for three countries,\n",
        "(a) Determine the number of buildings within 100 kilometers of the capital cities of Kenya, Tanzania and Uganda.\n",
        "(b) For the countries above, determine the average area of buildings within 100 kilometers of the capital city."
      ],
      "metadata": {
        "id": "XhJA6IMBQlPr"
      }
    },
    {
      "cell_type": "markdown",
      "source": [
        "Because of the huge size of the buildings data, I uploaded it to my google drive from where I could access the datasets from google colab"
      ],
      "metadata": {
        "id": "b2pYfR5ISCkJ"
      }
    },
    {
      "cell_type": "code",
      "source": [
        "import pandas as pd"
      ],
      "metadata": {
        "id": "mr6GxhoWQo_n"
      },
      "execution_count": 1,
      "outputs": []
    },
    {
      "cell_type": "markdown",
      "source": [
        "This problem requires libraries for geospatial analysis and distance calculations."
      ],
      "metadata": {
        "id": "g_C24Pe3SNEx"
      }
    },
    {
      "cell_type": "code",
      "source": [
        "pip install haversine"
      ],
      "metadata": {
        "id": "TKjy_D6nYUby"
      },
      "execution_count": null,
      "outputs": []
    },
    {
      "cell_type": "code",
      "source": [
        "pip install geopandas"
      ],
      "metadata": {
        "id": "G7V2rs7CZ1MT"
      },
      "execution_count": null,
      "outputs": []
    },
    {
      "cell_type": "code",
      "source": [
        "from haversine import haversine, Unit  #Calculates the great-circle distance between two points on the Earth's surface.\n",
        "import geopandas as gpd #Extends pandas with support for spatial operations on geometries.\n",
        "from shapely import wkt #Parses Well-Known Text (WKT) strings into geometry objects for spatial analysis."
      ],
      "metadata": {
        "id": "J1XBBTGsYMn7"
      },
      "execution_count": 4,
      "outputs": []
    },
    {
      "cell_type": "code",
      "source": [
        "import gdown #used to download files from Google Drive\n",
        "import zipfile\n",
        "import os"
      ],
      "metadata": {
        "id": "5u0J8R0jYDpp"
      },
      "execution_count": 5,
      "outputs": []
    },
    {
      "cell_type": "code",
      "source": [
        "cities_df = pd.read_csv('country-capital-lat-long-population.csv')\n",
        "cities_df.head()"
      ],
      "metadata": {
        "colab": {
          "base_uri": "https://localhost:8080/",
          "height": 206
        },
        "id": "WNwhDSPy3j4q",
        "outputId": "dca55f34-0a33-46c7-eb97-61a4c07859a0"
      },
      "execution_count": 6,
      "outputs": [
        {
          "output_type": "execute_result",
          "data": {
            "text/plain": [
              "          Country           Capital City  Latitude  Longitude  Population  \\\n",
              "0     Afghanistan                  Kabul   34.5289    69.1725     4011770   \n",
              "1         Albania        Tiranë (Tirana)   41.3275    19.8189      475577   \n",
              "2         Algeria  El Djazaïr  (Algiers)   36.7525     3.0420     2693542   \n",
              "3  American Samoa              Pago Pago  -14.2781  -170.7025       48526   \n",
              "4         Andorra       Andorra la Vella   42.5078     1.5211       22614   \n",
              "\n",
              "  Capital Type  \n",
              "0      Capital  \n",
              "1      Capital  \n",
              "2      Capital  \n",
              "3      Capital  \n",
              "4      Capital  "
            ],
            "text/html": [
              "\n",
              "  <div id=\"df-eae92309-3060-492d-b0bb-4422d656d829\" class=\"colab-df-container\">\n",
              "    <div>\n",
              "<style scoped>\n",
              "    .dataframe tbody tr th:only-of-type {\n",
              "        vertical-align: middle;\n",
              "    }\n",
              "\n",
              "    .dataframe tbody tr th {\n",
              "        vertical-align: top;\n",
              "    }\n",
              "\n",
              "    .dataframe thead th {\n",
              "        text-align: right;\n",
              "    }\n",
              "</style>\n",
              "<table border=\"1\" class=\"dataframe\">\n",
              "  <thead>\n",
              "    <tr style=\"text-align: right;\">\n",
              "      <th></th>\n",
              "      <th>Country</th>\n",
              "      <th>Capital City</th>\n",
              "      <th>Latitude</th>\n",
              "      <th>Longitude</th>\n",
              "      <th>Population</th>\n",
              "      <th>Capital Type</th>\n",
              "    </tr>\n",
              "  </thead>\n",
              "  <tbody>\n",
              "    <tr>\n",
              "      <th>0</th>\n",
              "      <td>Afghanistan</td>\n",
              "      <td>Kabul</td>\n",
              "      <td>34.5289</td>\n",
              "      <td>69.1725</td>\n",
              "      <td>4011770</td>\n",
              "      <td>Capital</td>\n",
              "    </tr>\n",
              "    <tr>\n",
              "      <th>1</th>\n",
              "      <td>Albania</td>\n",
              "      <td>Tiranë (Tirana)</td>\n",
              "      <td>41.3275</td>\n",
              "      <td>19.8189</td>\n",
              "      <td>475577</td>\n",
              "      <td>Capital</td>\n",
              "    </tr>\n",
              "    <tr>\n",
              "      <th>2</th>\n",
              "      <td>Algeria</td>\n",
              "      <td>El Djazaïr  (Algiers)</td>\n",
              "      <td>36.7525</td>\n",
              "      <td>3.0420</td>\n",
              "      <td>2693542</td>\n",
              "      <td>Capital</td>\n",
              "    </tr>\n",
              "    <tr>\n",
              "      <th>3</th>\n",
              "      <td>American Samoa</td>\n",
              "      <td>Pago Pago</td>\n",
              "      <td>-14.2781</td>\n",
              "      <td>-170.7025</td>\n",
              "      <td>48526</td>\n",
              "      <td>Capital</td>\n",
              "    </tr>\n",
              "    <tr>\n",
              "      <th>4</th>\n",
              "      <td>Andorra</td>\n",
              "      <td>Andorra la Vella</td>\n",
              "      <td>42.5078</td>\n",
              "      <td>1.5211</td>\n",
              "      <td>22614</td>\n",
              "      <td>Capital</td>\n",
              "    </tr>\n",
              "  </tbody>\n",
              "</table>\n",
              "</div>\n",
              "    <div class=\"colab-df-buttons\">\n",
              "\n",
              "  <div class=\"colab-df-container\">\n",
              "    <button class=\"colab-df-convert\" onclick=\"convertToInteractive('df-eae92309-3060-492d-b0bb-4422d656d829')\"\n",
              "            title=\"Convert this dataframe to an interactive table.\"\n",
              "            style=\"display:none;\">\n",
              "\n",
              "  <svg xmlns=\"http://www.w3.org/2000/svg\" height=\"24px\" viewBox=\"0 -960 960 960\">\n",
              "    <path d=\"M120-120v-720h720v720H120Zm60-500h600v-160H180v160Zm220 220h160v-160H400v160Zm0 220h160v-160H400v160ZM180-400h160v-160H180v160Zm440 0h160v-160H620v160ZM180-180h160v-160H180v160Zm440 0h160v-160H620v160Z\"/>\n",
              "  </svg>\n",
              "    </button>\n",
              "\n",
              "  <style>\n",
              "    .colab-df-container {\n",
              "      display:flex;\n",
              "      gap: 12px;\n",
              "    }\n",
              "\n",
              "    .colab-df-convert {\n",
              "      background-color: #E8F0FE;\n",
              "      border: none;\n",
              "      border-radius: 50%;\n",
              "      cursor: pointer;\n",
              "      display: none;\n",
              "      fill: #1967D2;\n",
              "      height: 32px;\n",
              "      padding: 0 0 0 0;\n",
              "      width: 32px;\n",
              "    }\n",
              "\n",
              "    .colab-df-convert:hover {\n",
              "      background-color: #E2EBFA;\n",
              "      box-shadow: 0px 1px 2px rgba(60, 64, 67, 0.3), 0px 1px 3px 1px rgba(60, 64, 67, 0.15);\n",
              "      fill: #174EA6;\n",
              "    }\n",
              "\n",
              "    .colab-df-buttons div {\n",
              "      margin-bottom: 4px;\n",
              "    }\n",
              "\n",
              "    [theme=dark] .colab-df-convert {\n",
              "      background-color: #3B4455;\n",
              "      fill: #D2E3FC;\n",
              "    }\n",
              "\n",
              "    [theme=dark] .colab-df-convert:hover {\n",
              "      background-color: #434B5C;\n",
              "      box-shadow: 0px 1px 3px 1px rgba(0, 0, 0, 0.15);\n",
              "      filter: drop-shadow(0px 1px 2px rgba(0, 0, 0, 0.3));\n",
              "      fill: #FFFFFF;\n",
              "    }\n",
              "  </style>\n",
              "\n",
              "    <script>\n",
              "      const buttonEl =\n",
              "        document.querySelector('#df-eae92309-3060-492d-b0bb-4422d656d829 button.colab-df-convert');\n",
              "      buttonEl.style.display =\n",
              "        google.colab.kernel.accessAllowed ? 'block' : 'none';\n",
              "\n",
              "      async function convertToInteractive(key) {\n",
              "        const element = document.querySelector('#df-eae92309-3060-492d-b0bb-4422d656d829');\n",
              "        const dataTable =\n",
              "          await google.colab.kernel.invokeFunction('convertToInteractive',\n",
              "                                                    [key], {});\n",
              "        if (!dataTable) return;\n",
              "\n",
              "        const docLinkHtml = 'Like what you see? Visit the ' +\n",
              "          '<a target=\"_blank\" href=https://colab.research.google.com/notebooks/data_table.ipynb>data table notebook</a>'\n",
              "          + ' to learn more about interactive tables.';\n",
              "        element.innerHTML = '';\n",
              "        dataTable['output_type'] = 'display_data';\n",
              "        await google.colab.output.renderOutput(dataTable, element);\n",
              "        const docLink = document.createElement('div');\n",
              "        docLink.innerHTML = docLinkHtml;\n",
              "        element.appendChild(docLink);\n",
              "      }\n",
              "    </script>\n",
              "  </div>\n",
              "\n",
              "\n",
              "<div id=\"df-343291aa-a732-4cba-a531-6670771c103d\">\n",
              "  <button class=\"colab-df-quickchart\" onclick=\"quickchart('df-343291aa-a732-4cba-a531-6670771c103d')\"\n",
              "            title=\"Suggest charts\"\n",
              "            style=\"display:none;\">\n",
              "\n",
              "<svg xmlns=\"http://www.w3.org/2000/svg\" height=\"24px\"viewBox=\"0 0 24 24\"\n",
              "     width=\"24px\">\n",
              "    <g>\n",
              "        <path d=\"M19 3H5c-1.1 0-2 .9-2 2v14c0 1.1.9 2 2 2h14c1.1 0 2-.9 2-2V5c0-1.1-.9-2-2-2zM9 17H7v-7h2v7zm4 0h-2V7h2v10zm4 0h-2v-4h2v4z\"/>\n",
              "    </g>\n",
              "</svg>\n",
              "  </button>\n",
              "\n",
              "<style>\n",
              "  .colab-df-quickchart {\n",
              "      --bg-color: #E8F0FE;\n",
              "      --fill-color: #1967D2;\n",
              "      --hover-bg-color: #E2EBFA;\n",
              "      --hover-fill-color: #174EA6;\n",
              "      --disabled-fill-color: #AAA;\n",
              "      --disabled-bg-color: #DDD;\n",
              "  }\n",
              "\n",
              "  [theme=dark] .colab-df-quickchart {\n",
              "      --bg-color: #3B4455;\n",
              "      --fill-color: #D2E3FC;\n",
              "      --hover-bg-color: #434B5C;\n",
              "      --hover-fill-color: #FFFFFF;\n",
              "      --disabled-bg-color: #3B4455;\n",
              "      --disabled-fill-color: #666;\n",
              "  }\n",
              "\n",
              "  .colab-df-quickchart {\n",
              "    background-color: var(--bg-color);\n",
              "    border: none;\n",
              "    border-radius: 50%;\n",
              "    cursor: pointer;\n",
              "    display: none;\n",
              "    fill: var(--fill-color);\n",
              "    height: 32px;\n",
              "    padding: 0;\n",
              "    width: 32px;\n",
              "  }\n",
              "\n",
              "  .colab-df-quickchart:hover {\n",
              "    background-color: var(--hover-bg-color);\n",
              "    box-shadow: 0 1px 2px rgba(60, 64, 67, 0.3), 0 1px 3px 1px rgba(60, 64, 67, 0.15);\n",
              "    fill: var(--button-hover-fill-color);\n",
              "  }\n",
              "\n",
              "  .colab-df-quickchart-complete:disabled,\n",
              "  .colab-df-quickchart-complete:disabled:hover {\n",
              "    background-color: var(--disabled-bg-color);\n",
              "    fill: var(--disabled-fill-color);\n",
              "    box-shadow: none;\n",
              "  }\n",
              "\n",
              "  .colab-df-spinner {\n",
              "    border: 2px solid var(--fill-color);\n",
              "    border-color: transparent;\n",
              "    border-bottom-color: var(--fill-color);\n",
              "    animation:\n",
              "      spin 1s steps(1) infinite;\n",
              "  }\n",
              "\n",
              "  @keyframes spin {\n",
              "    0% {\n",
              "      border-color: transparent;\n",
              "      border-bottom-color: var(--fill-color);\n",
              "      border-left-color: var(--fill-color);\n",
              "    }\n",
              "    20% {\n",
              "      border-color: transparent;\n",
              "      border-left-color: var(--fill-color);\n",
              "      border-top-color: var(--fill-color);\n",
              "    }\n",
              "    30% {\n",
              "      border-color: transparent;\n",
              "      border-left-color: var(--fill-color);\n",
              "      border-top-color: var(--fill-color);\n",
              "      border-right-color: var(--fill-color);\n",
              "    }\n",
              "    40% {\n",
              "      border-color: transparent;\n",
              "      border-right-color: var(--fill-color);\n",
              "      border-top-color: var(--fill-color);\n",
              "    }\n",
              "    60% {\n",
              "      border-color: transparent;\n",
              "      border-right-color: var(--fill-color);\n",
              "    }\n",
              "    80% {\n",
              "      border-color: transparent;\n",
              "      border-right-color: var(--fill-color);\n",
              "      border-bottom-color: var(--fill-color);\n",
              "    }\n",
              "    90% {\n",
              "      border-color: transparent;\n",
              "      border-bottom-color: var(--fill-color);\n",
              "    }\n",
              "  }\n",
              "</style>\n",
              "\n",
              "  <script>\n",
              "    async function quickchart(key) {\n",
              "      const quickchartButtonEl =\n",
              "        document.querySelector('#' + key + ' button');\n",
              "      quickchartButtonEl.disabled = true;  // To prevent multiple clicks.\n",
              "      quickchartButtonEl.classList.add('colab-df-spinner');\n",
              "      try {\n",
              "        const charts = await google.colab.kernel.invokeFunction(\n",
              "            'suggestCharts', [key], {});\n",
              "      } catch (error) {\n",
              "        console.error('Error during call to suggestCharts:', error);\n",
              "      }\n",
              "      quickchartButtonEl.classList.remove('colab-df-spinner');\n",
              "      quickchartButtonEl.classList.add('colab-df-quickchart-complete');\n",
              "    }\n",
              "    (() => {\n",
              "      let quickchartButtonEl =\n",
              "        document.querySelector('#df-343291aa-a732-4cba-a531-6670771c103d button');\n",
              "      quickchartButtonEl.style.display =\n",
              "        google.colab.kernel.accessAllowed ? 'block' : 'none';\n",
              "    })();\n",
              "  </script>\n",
              "</div>\n",
              "\n",
              "    </div>\n",
              "  </div>\n"
            ],
            "application/vnd.google.colaboratory.intrinsic+json": {
              "type": "dataframe",
              "variable_name": "cities_df",
              "summary": "{\n  \"name\": \"cities_df\",\n  \"rows\": 234,\n  \"fields\": [\n    {\n      \"column\": \"Country\",\n      \"properties\": {\n        \"dtype\": \"string\",\n        \"num_unique_values\": 233,\n        \"samples\": [\n          \"Greece\",\n          \"Uganda\",\n          \"Zambia\"\n        ],\n        \"semantic_type\": \"\",\n        \"description\": \"\"\n      }\n    },\n    {\n      \"column\": \"Capital City\",\n      \"properties\": {\n        \"dtype\": \"string\",\n        \"num_unique_values\": 234,\n        \"samples\": [\n          \"Asmara\",\n          \"Krung Thep (Bangkok)\",\n          \"San Marino\"\n        ],\n        \"semantic_type\": \"\",\n        \"description\": \"\"\n      }\n    },\n    {\n      \"column\": \"Latitude\",\n      \"properties\": {\n        \"dtype\": \"number\",\n        \"std\": 24.59154621324624,\n        \"min\": -51.7012,\n        \"max\": 64.1835,\n        \"num_unique_values\": 234,\n        \"samples\": [\n          15.3333,\n          13.722,\n          43.9333\n        ],\n        \"semantic_type\": \"\",\n        \"description\": \"\"\n      }\n    },\n    {\n      \"column\": \"Longitude\",\n      \"properties\": {\n        \"dtype\": \"number\",\n        \"std\": 73.36461617186534,\n        \"min\": -176.1745,\n        \"max\": 179.1991,\n        \"num_unique_values\": 234,\n        \"samples\": [\n          38.9333,\n          100.5252,\n          12.45\n        ],\n        \"semantic_type\": \"\",\n        \"description\": \"\"\n      }\n    },\n    {\n      \"column\": \"Population\",\n      \"properties\": {\n        \"dtype\": \"number\",\n        \"std\": 4629054,\n        \"min\": 0,\n        \"max\": 37468302,\n        \"num_unique_values\": 234,\n        \"samples\": [\n          895863,\n          10156316,\n          4465\n        ],\n        \"semantic_type\": \"\",\n        \"description\": \"\"\n      }\n    },\n    {\n      \"column\": \"Capital Type\",\n      \"properties\": {\n        \"dtype\": \"category\",\n        \"num_unique_values\": 6,\n        \"samples\": [\n          \"Capital\",\n          \"Economic Capital\",\n          \"Legislative Capital\"\n        ],\n        \"semantic_type\": \"\",\n        \"description\": \"\"\n      }\n    }\n  ]\n}"
            }
          },
          "metadata": {},
          "execution_count": 6
        }
      ]
    },
    {
      "cell_type": "code",
      "source": [
        "#The three countries\n",
        "Country_Kenya = ['Kenya']\n",
        "Country_Tanzania = ['Tanzania']\n",
        "Country_Uganda = ['Uganda']\n",
        "\n",
        "Kenya_df = cities_df[cities_df['Country'].isin(Country_Kenya)]\n",
        "Uganda_df = cities_df[cities_df['Country'].isin(Country_Uganda)]\n",
        "\n",
        "print(Kenya_df)\n",
        "print(Uganda_df)\n",
        "\n",
        "# Save the new DataFrames to files\n",
        "Kenya_df.to_csv(\"Nairobi.csv\", index=False)\n",
        "Uganda_df.to_csv(\"Kampala.csv\", index=False)"
      ],
      "metadata": {
        "colab": {
          "base_uri": "https://localhost:8080/"
        },
        "id": "8lTZgOAP4My4",
        "outputId": "65e1006a-7558-442e-e435-e2770e1ecd96"
      },
      "execution_count": 7,
      "outputs": [
        {
          "output_type": "stream",
          "name": "stdout",
          "text": [
            "    Country Capital City  Latitude  Longitude  Population Capital Type\n",
            "111   Kenya      Nairobi   -1.2833    36.8167     4385853      Capital\n",
            "    Country Capital City  Latitude  Longitude  Population Capital Type\n",
            "217  Uganda      Kampala    0.3163    32.5822     2986352      Capital\n"
          ]
        }
      ]
    },
    {
      "cell_type": "code",
      "source": [
        "#Since we do not have the properties of Tanzania, we shall create a dataset based\n",
        "#on the data we get from the internet\n",
        "Tanzania_df = pd.DataFrame({\n",
        "    'Country': ['Tanzania'],\n",
        "    'Capital City': ['Dodoma'],\n",
        "    'Latitude': [-6.1630],\n",
        "    'Longitude': [35.7516],\n",
        "    'Population': [765179],\n",
        "    'Capital Type': ['Capital']\n",
        "})"
      ],
      "metadata": {
        "id": "qJyQ-4baNhQW"
      },
      "execution_count": 8,
      "outputs": []
    },
    {
      "cell_type": "code",
      "source": [
        "print(Tanzania_df)"
      ],
      "metadata": {
        "colab": {
          "base_uri": "https://localhost:8080/"
        },
        "id": "TYmorCCQOArg",
        "outputId": "faa40cbb-ca57-4f0a-cf68-6341888c7fd5"
      },
      "execution_count": 9,
      "outputs": [
        {
          "output_type": "stream",
          "name": "stdout",
          "text": [
            "    Country Capital City  Latitude  Longitude  Population Capital Type\n",
            "0  Tanzania       Dodoma    -6.163    35.7516      765179      Capital\n"
          ]
        }
      ]
    },
    {
      "cell_type": "code",
      "source": [
        "Tanzania_df.to_csv(\"Dodoma.csv\", index=False)"
      ],
      "metadata": {
        "id": "4Hcq175gOD5O"
      },
      "execution_count": 10,
      "outputs": []
    },
    {
      "cell_type": "markdown",
      "source": [
        "i. Kenya"
      ],
      "metadata": {
        "id": "aHQ-YbffTbFh"
      }
    },
    {
      "cell_type": "code",
      "source": [
        "#Define the file ID and file name\n",
        "file_id = \"1CyQ-xz0pPz5NPSfn1oo3R26KwSfYAjQv\"  #file ID for Nairobi in google drive\n",
        "file_name = \"Nairobi_buildings.csv.gz\"  # Name for the downloaded file\n",
        "\n",
        "#Download the file from Google Drive\n",
        "gdown.download(f\"https://drive.google.com/uc?id={file_id}\", file_name, quiet=False)\n",
        "\n",
        "# Load the .csv.gz file into a pandas DataFrame\n",
        "df_1 = pd.read_csv(file_name, compression=\"gzip\")\n",
        "\n",
        "print(df_1.head())"
      ],
      "metadata": {
        "colab": {
          "base_uri": "https://localhost:8080/"
        },
        "id": "hOiGhBGHCH-Q",
        "outputId": "76b906ab-a708-4b92-b9db-92126aaf2acd"
      },
      "execution_count": 11,
      "outputs": [
        {
          "output_type": "stream",
          "name": "stderr",
          "text": [
            "Downloading...\n",
            "From (original): https://drive.google.com/uc?id=1CyQ-xz0pPz5NPSfn1oo3R26KwSfYAjQv\n",
            "From (redirected): https://drive.google.com/uc?id=1CyQ-xz0pPz5NPSfn1oo3R26KwSfYAjQv&confirm=t&uuid=f4d03435-94a3-466b-b0ee-b5ab7c72bae3\n",
            "To: /content/Nairobi_buildings.csv.gz\n",
            "100%|██████████| 1.76G/1.76G [00:14<00:00, 120MB/s]\n"
          ]
        },
        {
          "output_type": "stream",
          "name": "stdout",
          "text": [
            "   latitude  longitude  area_in_meters  confidence  \\\n",
            "0 -0.193490  35.566465         13.6828      0.7385   \n",
            "1 -0.040530  37.636051         39.3581      0.7824   \n",
            "2 -0.795178  37.462740         21.6735      0.6809   \n",
            "3 -1.096869  37.202562          9.9701      0.7498   \n",
            "4 -2.990276  37.536638         17.2219      0.6932   \n",
            "\n",
            "                                            geometry full_plus_code  \n",
            "0  POLYGON((35.5664883709283 -0.193494911934182, ...  6GFQRH48+JH4H  \n",
            "1  POLYGON((37.6360904683212 -0.040522638535365, ...  6GFVXJ5P+QCMP  \n",
            "2  POLYGON((37.4627557578247 -0.795203223093872, ...  6GFV6F37+W3HW  \n",
            "3  POLYGON((37.2025801959259 -1.09687771157486, 3...  6GCVW633+7239  \n",
            "4  POLYGON((37.5366622482796 -2.9902867428837, 37...  6G9V2G5P+VMJV  \n"
          ]
        }
      ]
    },
    {
      "cell_type": "code",
      "source": [
        "df_1.info()"
      ],
      "metadata": {
        "colab": {
          "base_uri": "https://localhost:8080/"
        },
        "id": "EkC9ZH88He1E",
        "outputId": "38e56e83-17da-423e-dd5e-9b1ef1e758d8"
      },
      "execution_count": 12,
      "outputs": [
        {
          "output_type": "stream",
          "name": "stdout",
          "text": [
            "<class 'pandas.core.frame.DataFrame'>\n",
            "RangeIndex: 17871082 entries, 0 to 17871081\n",
            "Data columns (total 6 columns):\n",
            " #   Column          Dtype  \n",
            "---  ------          -----  \n",
            " 0   latitude        float64\n",
            " 1   longitude       float64\n",
            " 2   area_in_meters  float64\n",
            " 3   confidence      float64\n",
            " 4   geometry        object \n",
            " 5   full_plus_code  object \n",
            "dtypes: float64(4), object(2)\n",
            "memory usage: 818.1+ MB\n"
          ]
        }
      ]
    },
    {
      "cell_type": "code",
      "source": [
        "#Geometries must be valid\n",
        "if df_1['geometry'].dtype == 'object':  # If geometry is stored as strings\n",
        "    from shapely import wkt\n",
        "    df_1['geometry'] = df_1['geometry'].apply(wkt.loads)\n",
        "\n",
        "#Convert to GeoDataFrame\n",
        "df_1 = gpd.GeoDataFrame(df_1, geometry='geometry')\n",
        "\n",
        "#Calculate centroids and extract coordinates\n",
        "df_1['centroid'] = df_1.geometry.centroid\n",
        "df_1['latitude'] = df_1['centroid'].y\n",
        "df_1['longitude'] = df_1['centroid'].x\n",
        "\n",
        "#Radius calculation function\n",
        "def count_buildings_near_capital(lat, lon, radius_km):\n",
        "    capital_coords = (lat, lon)\n",
        "    df_1['distance_km'] = df_1.apply(\n",
        "        lambda row: haversine(capital_coords, (row['latitude'], row['longitude']), unit=Unit.KILOMETERS),\n",
        "        axis=1\n",
        "    )\n",
        "\n",
        "    return (df_1['distance_km'] <= radius_km).sum()\n",
        "\n",
        "#Coordinates of Nairobi city\n",
        "latitude = Kenya_df.iloc[0]['Latitude']\n",
        "longitude = Kenya_df.iloc[0]['Longitude']\n",
        "\n",
        "#Define the radius\n",
        "radius_km = 100\n",
        "\n",
        "#Count buildings within the radius\n",
        "count = count_buildings_near_capital(latitude, longitude, radius_km)\n",
        "\n",
        "print(f\"Buildings within {radius_km} km of {Kenya_df.iloc[0]['Capital City']} ({Kenya_df.iloc[0]['Country']}): {count}\")\n"
      ],
      "metadata": {
        "colab": {
          "base_uri": "https://localhost:8080/"
        },
        "id": "msFJivjOTtIB",
        "outputId": "bebfbd04-e5ad-49e6-ea51-77aba272749b"
      },
      "execution_count": 13,
      "outputs": [
        {
          "output_type": "stream",
          "name": "stdout",
          "text": [
            "Buildings within 100 km of Nairobi (Kenya): 6030129\n"
          ]
        }
      ]
    },
    {
      "cell_type": "code",
      "source": [
        "#Filter the buildings within 100 km of Nairobi\n",
        "buildings_within_radius = df_1[df_1['distance_km'] <= radius_km]\n",
        "\n",
        "#Calculate the average area\n",
        "average_area = buildings_within_radius['area_in_meters'].mean()\n",
        "\n",
        "print(f\"Average area of these buildings: {average_area:.2f} square meters\")\n"
      ],
      "metadata": {
        "id": "vbMik8fTNNX_",
        "colab": {
          "base_uri": "https://localhost:8080/"
        },
        "outputId": "92767bde-8e62-413f-d95a-7d19dfd49f03"
      },
      "execution_count": 14,
      "outputs": [
        {
          "output_type": "stream",
          "name": "stdout",
          "text": [
            "Average area of these buildings: 61.76 square meters\n"
          ]
        }
      ]
    },
    {
      "cell_type": "markdown",
      "source": [
        "ii. Tanzania"
      ],
      "metadata": {
        "id": "6-NIimg6VCBI"
      }
    },
    {
      "cell_type": "code",
      "source": [
        "#Define the file ID and file name\n",
        "file_id = \"1e8276ygPS_ZxkecAIn6Bzvlj7lULsYdM\"  #file ID in google drive\n",
        "file_name = \"Dodoma_buildings.csv.gz\"  # Name for the downloaded file\n",
        "\n",
        "#Download the file from Google Drive\n",
        "gdown.download(f\"https://drive.google.com/uc?id={file_id}\", file_name, quiet=False)\n",
        "\n",
        "# Load the .csv.gz file into a pandas DataFrame\n",
        "df_2 = pd.read_csv(file_name, compression=\"gzip\")\n",
        "\n",
        "print(df_2.head())"
      ],
      "metadata": {
        "id": "dfZkaoqFMs6c",
        "colab": {
          "base_uri": "https://localhost:8080/"
        },
        "outputId": "30a3028b-0ded-407e-fe1e-69ce248f2c03"
      },
      "execution_count": 15,
      "outputs": [
        {
          "output_type": "stream",
          "name": "stderr",
          "text": [
            "Downloading...\n",
            "From (original): https://drive.google.com/uc?id=1e8276ygPS_ZxkecAIn6Bzvlj7lULsYdM\n",
            "From (redirected): https://drive.google.com/uc?id=1e8276ygPS_ZxkecAIn6Bzvlj7lULsYdM&confirm=t&uuid=ec0ddbb9-bc36-4c0b-9d90-47faa89e9d73\n",
            "To: /content/Dodoma_buildings.csv.gz\n",
            "100%|██████████| 871M/871M [00:09<00:00, 90.5MB/s]\n"
          ]
        },
        {
          "output_type": "stream",
          "name": "stdout",
          "text": [
            "   latitude  longitude  area_in_meters  confidence  \\\n",
            "0 -8.155979  36.692185         57.7881      0.8417   \n",
            "1 -4.332005  39.147017         27.0097      0.6728   \n",
            "2 -6.231007  36.563664         60.8869      0.8911   \n",
            "3 -6.008637  34.982150         17.2327      0.7200   \n",
            "4 -5.420280  37.178479         28.1533      0.7002   \n",
            "\n",
            "                                            geometry full_plus_code  \n",
            "0  POLYGON((36.6922195279254 -8.15594482714905, 3...  6G3RRMVR+JV3X  \n",
            "1  POLYGON((39.1470455057509 -4.33202201827588, 3...  6G7XM49W+5RRP  \n",
            "2  POLYGON((36.5637113993215 -6.23098370274496, 3...  6G5RQH97+HFVJ  \n",
            "3  POLYGON((34.9821688932721 -6.00865538580887, 3...  6G5PXXRJ+GVRH  \n",
            "4  POLYGON((37.1784950210917 -5.42031064981906, 3...  6G6VH5HH+V9QV  \n"
          ]
        }
      ]
    },
    {
      "cell_type": "code",
      "source": [
        "df_2.info()"
      ],
      "metadata": {
        "id": "h_hPWGEhVYg2",
        "colab": {
          "base_uri": "https://localhost:8080/"
        },
        "outputId": "c6f7d6ad-4d24-49c7-9ea9-35f083fe3362"
      },
      "execution_count": 16,
      "outputs": [
        {
          "output_type": "stream",
          "name": "stdout",
          "text": [
            "<class 'pandas.core.frame.DataFrame'>\n",
            "RangeIndex: 8968031 entries, 0 to 8968030\n",
            "Data columns (total 6 columns):\n",
            " #   Column          Dtype  \n",
            "---  ------          -----  \n",
            " 0   latitude        float64\n",
            " 1   longitude       float64\n",
            " 2   area_in_meters  float64\n",
            " 3   confidence      float64\n",
            " 4   geometry        object \n",
            " 5   full_plus_code  object \n",
            "dtypes: float64(4), object(2)\n",
            "memory usage: 410.5+ MB\n"
          ]
        }
      ]
    },
    {
      "cell_type": "code",
      "source": [
        "#Geometries must be valid\n",
        "if df_2['geometry'].dtype == 'object':  #If geometry is stored as strings\n",
        "    from shapely import wkt\n",
        "    df_2['geometry'] = df_2['geometry'].apply(wkt.loads)\n",
        "\n",
        "#Convert to GeoDataFrame\n",
        "df_2 = gpd.GeoDataFrame(df_2, geometry='geometry')\n",
        "\n",
        "#Calculate centroids and extract coordinates\n",
        "df_2['centroid'] = df_2.geometry.centroid\n",
        "df_2['latitude'] = df_2['centroid'].y\n",
        "df_2['longitude'] = df_2['centroid'].x\n",
        "\n",
        "#Radius calculation function\n",
        "def count_buildings_near_capital(lat, lon, radius_km):\n",
        "    capital_coords = (lat, lon)\n",
        "    df_2['distance_km'] = df_2.apply(\n",
        "        lambda row: haversine(capital_coords, (row['latitude'], row['longitude']), unit=Unit.KILOMETERS),\n",
        "        axis=1\n",
        "    )\n",
        "    return (df_2['distance_km'] <= radius_km).sum()\n",
        "\n",
        "#Coordinates of Dodoma city\n",
        "latitude = Tanzania_df.iloc[0]['Latitude']\n",
        "longitude = Tanzania_df.iloc[0]['Longitude']\n",
        "\n",
        "#Define the radius\n",
        "radius_km = 100\n",
        "\n",
        "#Count buildings within the radius\n",
        "count = count_buildings_near_capital(latitude, longitude, radius_km)\n",
        "\n",
        "print(f\"Buildings within {radius_km} km of {Tanzania_df.iloc[0]['Capital City']} ({Tanzania_df.iloc[0]['Country']}): {count}\")"
      ],
      "metadata": {
        "id": "itye6WdNVauy",
        "colab": {
          "base_uri": "https://localhost:8080/"
        },
        "outputId": "52856e2a-a930-4bf0-bdb1-9bb43354fe6b"
      },
      "execution_count": 17,
      "outputs": [
        {
          "output_type": "stream",
          "name": "stdout",
          "text": [
            "Buildings within 100 km of Dodoma (Tanzania): 1056779\n"
          ]
        }
      ]
    },
    {
      "cell_type": "code",
      "source": [
        "#Filter the buildings within 100 km of Dar Es Salaam\n",
        "buildings_within_radius = df_2[df_2['distance_km'] <= radius_km]\n",
        "\n",
        "#Calculate the average area\n",
        "average_area = buildings_within_radius['area_in_meters'].mean()\n",
        "\n",
        "print(f\"Average area of these buildings: {average_area:.2f} square meters\")"
      ],
      "metadata": {
        "colab": {
          "base_uri": "https://localhost:8080/"
        },
        "id": "Ox7BQ9ziXmA4",
        "outputId": "d5b31d6e-19d7-4e7d-d758-d8c2c636a997"
      },
      "execution_count": 18,
      "outputs": [
        {
          "output_type": "stream",
          "name": "stdout",
          "text": [
            "Average area of these buildings: 47.91 square meters\n"
          ]
        }
      ]
    },
    {
      "cell_type": "markdown",
      "source": [
        "iii. Uganda"
      ],
      "metadata": {
        "id": "U37oPZl6Hhmy"
      }
    },
    {
      "cell_type": "code",
      "source": [
        "#Define the file ID and file name\n",
        "file_id = \"1oS0e7XoY9F_LIfZXVEJRSgvADA6bYtoM\"  #file ID in google drive\n",
        "file_name = \"Kampala_buildings.csv.gz\"  # Name for the downloaded file\n",
        "\n",
        "#Download the file from Google Drive\n",
        "gdown.download(f\"https://drive.google.com/uc?id={file_id}\", file_name, quiet=False)\n",
        "\n",
        "# Load the .csv.gz file into a pandas DataFrame\n",
        "df_3 = pd.read_csv(file_name, compression=\"gzip\")\n",
        "\n",
        "print(df_3.head())"
      ],
      "metadata": {
        "colab": {
          "base_uri": "https://localhost:8080/"
        },
        "id": "DIkrG83IHmLR",
        "outputId": "c9f8a5e8-cd58-4d67-ac85-87970b16ac8f"
      },
      "execution_count": 19,
      "outputs": [
        {
          "output_type": "stream",
          "name": "stderr",
          "text": [
            "Downloading...\n",
            "From (original): https://drive.google.com/uc?id=1oS0e7XoY9F_LIfZXVEJRSgvADA6bYtoM\n",
            "From (redirected): https://drive.google.com/uc?id=1oS0e7XoY9F_LIfZXVEJRSgvADA6bYtoM&confirm=t&uuid=e2b4ca0a-31ff-4757-806e-899cf8b6342d\n",
            "To: /content/Kampala_buildings.csv.gz\n",
            "100%|██████████| 1.91G/1.91G [00:19<00:00, 97.4MB/s]\n"
          ]
        },
        {
          "output_type": "stream",
          "name": "stdout",
          "text": [
            "   latitude  longitude  area_in_meters  confidence  \\\n",
            "0  0.194803  34.190104         47.1710      0.7835   \n",
            "1  0.143153  32.543894         16.0819      0.6964   \n",
            "2  0.903326  32.568620         61.5599      0.8727   \n",
            "3  1.934478  33.111609         78.4339      0.8006   \n",
            "4  1.915876  33.143219         74.8745      0.8621   \n",
            "\n",
            "                                            geometry full_plus_code  \n",
            "0  POLYGON((34.1901308273851 0.194841434533873, 3...  6GGP55VR+W2H3  \n",
            "1  POLYGON((32.5438814083812 0.143124278852618, 3...  6GGJ4GVV+7H64  \n",
            "2  POLYGON((32.5686660933795 0.903344690538587, 3...  6GGJWH39+8CQ5  \n",
            "3  POLYGON((33.1116485789278 1.93443731522919, 33...  6GHMW4M6+QJX4  \n",
            "4  POLYGON((33.1432643079789 1.91584362306832, 33...  6GHMW48V+9752  \n"
          ]
        }
      ]
    },
    {
      "cell_type": "code",
      "source": [
        "df_3.info()"
      ],
      "metadata": {
        "colab": {
          "base_uri": "https://localhost:8080/"
        },
        "id": "jAOGMfdOIRnk",
        "outputId": "ca8acbdf-79c7-4eaa-9a47-66e294efe376"
      },
      "execution_count": 20,
      "outputs": [
        {
          "output_type": "stream",
          "name": "stdout",
          "text": [
            "<class 'pandas.core.frame.DataFrame'>\n",
            "RangeIndex: 19944639 entries, 0 to 19944638\n",
            "Data columns (total 6 columns):\n",
            " #   Column          Dtype  \n",
            "---  ------          -----  \n",
            " 0   latitude        float64\n",
            " 1   longitude       float64\n",
            " 2   area_in_meters  float64\n",
            " 3   confidence      float64\n",
            " 4   geometry        object \n",
            " 5   full_plus_code  object \n",
            "dtypes: float64(4), object(2)\n",
            "memory usage: 913.0+ MB\n"
          ]
        }
      ]
    },
    {
      "cell_type": "code",
      "source": [
        "#Ensure geometries are valid\n",
        "if df_3['geometry'].dtype == 'object':  # If geometry is stored as strings\n",
        "    from shapely import wkt\n",
        "    df_3['geometry'] = df_3['geometry'].apply(wkt.loads)\n",
        "\n",
        "#Convert to GeoDataFrame\n",
        "df_3 = gpd.GeoDataFrame(df_3, geometry='geometry')\n",
        "\n",
        "#Calculate centroids and extract coordinates\n",
        "df_3['centroid'] = df_3.geometry.centroid\n",
        "df_3['latitude'] = df_3['centroid'].y\n",
        "df_3['longitude'] = df_3['centroid'].x\n",
        "\n",
        "#Radius calculation function\n",
        "def count_buildings_near_capital(lat, lon, radius_km):\n",
        "    capital_coords = (lat, lon)\n",
        "    df_3['distance_km'] = df_3.apply(\n",
        "        lambda row: haversine(capital_coords, (row['latitude'], row['longitude']), unit=Unit.KILOMETERS),\n",
        "        axis=1\n",
        "    )\n",
        "    return (df_3['distance_km'] <= radius_km).sum()\n",
        "\n",
        "#Coordinates of a kampala city\n",
        "latitude = Uganda_df.iloc[0]['Latitude']\n",
        "longitude = Uganda_df.iloc[0]['Longitude']\n",
        "\n",
        "# Define the radius\n",
        "radius_km = 100\n",
        "\n",
        "#Count buildings within the radius\n",
        "count = count_buildings_near_capital(latitude, longitude, radius_km)\n",
        "\n",
        "print(f\"Buildings within {radius_km} km of {Uganda_df.iloc[0]['Capital City']} ({Uganda_df.iloc[0]['Country']}): {count}\")"
      ],
      "metadata": {
        "colab": {
          "base_uri": "https://localhost:8080/"
        },
        "id": "8_O4iceUIR7W",
        "outputId": "7ef9111f-7c36-4227-a637-63ffd3a5e9fb"
      },
      "execution_count": 21,
      "outputs": [
        {
          "output_type": "stream",
          "name": "stdout",
          "text": [
            "Buildings within 100 km of Kampala (Uganda): 4371589\n"
          ]
        }
      ]
    },
    {
      "cell_type": "code",
      "source": [
        "#Filter the buildings within 100 km of Kampala\n",
        "buildings_within_radius = df_3[df_3['distance_km'] <= radius_km]\n",
        "\n",
        "#Calculate the average area\n",
        "average_area = buildings_within_radius['area_in_meters'].mean()\n",
        "\n",
        "print(f\"Average area of these buildings: {average_area:.2f} square meters\")"
      ],
      "metadata": {
        "colab": {
          "base_uri": "https://localhost:8080/"
        },
        "id": "PfCuDSpgXuNC",
        "outputId": "994f7c8a-ff12-4bd3-ccc6-269bbfa96f6f"
      },
      "execution_count": 22,
      "outputs": [
        {
          "output_type": "stream",
          "name": "stdout",
          "text": [
            "Average area of these buildings: 63.53 square meters\n"
          ]
        }
      ]
    }
  ]
}